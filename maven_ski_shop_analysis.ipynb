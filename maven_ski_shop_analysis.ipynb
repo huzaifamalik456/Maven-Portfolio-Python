{
 "cells": [
  {
   "cell_type": "markdown",
   "id": "2d7d830c",
   "metadata": {},
   "source": [
    "# Final Project: Black Friday Excel Data"
   ]
  },
  {
   "cell_type": "code",
   "execution_count": 6,
   "id": "59343dde",
   "metadata": {},
   "outputs": [],
   "source": [
    "# pprint prints dictionaries a bit more nicely than print\n",
    "from pprint import pprint"
   ]
  },
  {
   "cell_type": "markdown",
   "id": "b323bd31",
   "metadata": {},
   "source": [
    "## Part 1\n",
    "\n",
    "First, read in maven_ski_shop_data.xlsx\n",
    "\n",
    "Then, assign the orders worksheet to an intuitive variable name. "
   ]
  },
  {
   "cell_type": "code",
   "execution_count": 8,
   "id": "ec3f74c6",
   "metadata": {},
   "outputs": [],
   "source": [
    "import openpyxl as xl"
   ]
  },
  {
   "cell_type": "code",
   "execution_count": 9,
   "id": "e1b1d527",
   "metadata": {},
   "outputs": [],
   "source": [
    "my_workbook = xl.load_workbook(\"/Users/huzaifamalik/Downloads/Python for Data Analytics/Python Foundations for Data Analysis/Python Course Assignments/Section13_final_project/maven_ski_shop_data.xlsx\")"
   ]
  },
  {
   "cell_type": "code",
   "execution_count": 6,
   "id": "d4407995",
   "metadata": {},
   "outputs": [],
   "source": [
    "my_workbook.active = 2"
   ]
  },
  {
   "cell_type": "code",
   "execution_count": 7,
   "id": "f8a83603",
   "metadata": {},
   "outputs": [
    {
     "data": {
      "text/plain": [
       "'Orders_Info'"
      ]
     },
     "execution_count": 7,
     "metadata": {},
     "output_type": "execute_result"
    }
   ],
   "source": [
    "my_workbook.active.title"
   ]
  },
  {
   "cell_type": "code",
   "execution_count": 10,
   "id": "2e727798",
   "metadata": {},
   "outputs": [],
   "source": [
    "orders = my_workbook['Orders_Info']"
   ]
  },
  {
   "cell_type": "code",
   "execution_count": null,
   "id": "2f5a529f",
   "metadata": {},
   "outputs": [],
   "source": []
  },
  {
   "cell_type": "markdown",
   "id": "0fdff76c",
   "metadata": {},
   "source": [
    "### Column Printer Function\n",
    "\n",
    "Since we'll be working with Excel frequently, let's create a helper function to print all the rows a specified column.\n",
    "\n",
    "This will help us view imported data without looking at Excel, and review the data we've written into columns without needing to save a file to review the changes.\n",
    "\n",
    "Your function should take two arguments:\n",
    "\n",
    "* Worksheet where data is located\n",
    "* Column Letter of data to print\n",
    "\n",
    "Your function should:\n",
    "\n",
    "* Print Cell Coordinate (e.g. A1, D4).\n",
    "* Print the contents of the cell.\n",
    "\n",
    "Then call your function twice:\n",
    "\n",
    "* Once to print Order ID (column A in 'Orders_Info')\n",
    "* Once to print subtotal (column D in 'Orders_Info')"
   ]
  },
  {
   "cell_type": "code",
   "execution_count": 11,
   "id": "4d1b8dac",
   "metadata": {},
   "outputs": [],
   "source": [
    "def print_rows_in_column(worksheet, column_letter):\n",
    "    \n",
    "    for cell in reversed(worksheet[column_letter]):\n",
    "        \n",
    "        if cell.value is not None:\n",
    "            \n",
    "            max_row_in_coln = cell.row\n",
    "            break\n",
    "            \n",
    "    print(f\"Last non-empty row in column {column_letter} is {max_row_in_coln}\")\n",
    "\n",
    "    for row in range(1, max_row_in_coln + 1, 1 ):\n",
    "        \n",
    "        print(f\"{column_letter}{row} -> {worksheet[f'{column_letter}{row}'].value}\")\n",
    "    "
   ]
  },
  {
   "cell_type": "code",
   "execution_count": 13,
   "id": "02807904",
   "metadata": {},
   "outputs": [
    {
     "name": "stdout",
     "output_type": "stream",
     "text": [
      "Last non-empty row in column A is 28\n",
      "A1 -> Order_ID\n",
      "A2 -> 100000\n",
      "A3 -> 100001\n",
      "A4 -> 100002\n",
      "A5 -> 100003\n",
      "A6 -> 100004\n",
      "A7 -> 100005\n",
      "A8 -> 100006\n",
      "A9 -> 100007\n",
      "A10 -> 100008\n",
      "A11 -> 100009\n",
      "A12 -> 100010\n",
      "A13 -> 100011\n",
      "A14 -> 100012\n",
      "A15 -> 100013\n",
      "A16 -> 100014\n",
      "A17 -> 100020\n",
      "A18 -> 100021\n",
      "A19 -> 100022\n",
      "A20 -> 100023\n",
      "A21 -> 100024\n",
      "A22 -> 100025\n",
      "A23 -> 100026\n",
      "A24 -> 100027\n",
      "A25 -> 100031\n",
      "A26 -> 100032\n",
      "A27 -> 100033\n",
      "A28 -> 100034\n"
     ]
    }
   ],
   "source": [
    "print_rows_in_column(orders, 'A')"
   ]
  },
  {
   "cell_type": "code",
   "execution_count": 14,
   "id": "d4f69337",
   "metadata": {},
   "outputs": [
    {
     "name": "stdout",
     "output_type": "stream",
     "text": [
      "Last non-empty row in column D is 28\n",
      "D1 -> Subtotal\n",
      "D2 -> 15.98\n",
      "D3 -> 899.97\n",
      "D4 -> 799.97\n",
      "D5 -> 117.96\n",
      "D6 -> 5.99\n",
      "D7 -> 599.99\n",
      "D8 -> 24.99\n",
      "D9 -> 1799.94\n",
      "D10 -> 99.99\n",
      "D11 -> 254.95\n",
      "D12 -> 29.98\n",
      "D13 -> 99.99\n",
      "D14 -> 25.98\n",
      "D15 -> 649.98\n",
      "D16 -> 89.99\n",
      "D17 -> 119.99\n",
      "D18 -> 599.99\n",
      "D19 -> 649.98\n",
      "D20 -> 24.99\n",
      "D21 -> 99.99\n",
      "D22 -> 99.99\n",
      "D23 -> 5.99\n",
      "D24 -> 24.99\n",
      "D25 -> 999.96\n",
      "D26 -> 99.99\n",
      "D27 -> 399.97\n",
      "D28 -> 89.99\n"
     ]
    }
   ],
   "source": [
    "print_rows_in_column(orders, 'D')"
   ]
  },
  {
   "cell_type": "code",
   "execution_count": null,
   "id": "3891de44",
   "metadata": {},
   "outputs": [],
   "source": []
  },
  {
   "cell_type": "markdown",
   "id": "b4b6d8ea",
   "metadata": {},
   "source": [
    "### Order Data Dictionary\n",
    "\n",
    "Create a dictionary with all of the information contained in the 'Orders_Info' Worksheet.\n",
    "\n",
    "* The dictionary keys should be Order IDs (Column A)\n",
    "* The values should a list storing the data in the rest of the columns.\n",
    "* The columns in the list stored as values should be B, C, D, G, and H (after converting to list). \n",
    "* For example: The first order, column H should be the nested list: [10001, 10002]\n",
    "\n",
    "\n",
    "A few notes:\n",
    "\n",
    "* Convert the Items_Ordered field into a list (we covered a helpful string method for this)\n",
    "* This can be done with a dictionary comprehension\n",
    "* DO NOT INCLUDE EXCEL COLUMN HEADERS"
   ]
  },
  {
   "cell_type": "code",
   "execution_count": 15,
   "id": "5ee85dc0",
   "metadata": {},
   "outputs": [
    {
     "name": "stdout",
     "output_type": "stream",
     "text": [
      "28\n"
     ]
    }
   ],
   "source": [
    "for cell in reversed(orders['A']):\n",
    "    if cell.value is not None:\n",
    "        max_row_in_coln = cell.row\n",
    "        break\n",
    "print(max_row_in_coln)"
   ]
  },
  {
   "cell_type": "code",
   "execution_count": 16,
   "id": "da57947e",
   "metadata": {},
   "outputs": [],
   "source": [
    "order_dict={}"
   ]
  },
  {
   "cell_type": "code",
   "execution_count": null,
   "id": "65fa08ff",
   "metadata": {},
   "outputs": [],
   "source": []
  },
  {
   "cell_type": "code",
   "execution_count": 17,
   "id": "5bece27e",
   "metadata": {},
   "outputs": [],
   "source": [
    "for row in orders.iter_rows(min_row =2, max_row = max_row_in_coln, min_col = 2, max_col = orders.max_column):\n",
    "    \n",
    "    combined_list = []\n",
    "    items_ordered_list = []\n",
    "    \n",
    "    for cell in row:\n",
    "        #print(cell.value)\n",
    "        \n",
    "        if cell.value is not None and cell.column != 8:\n",
    "            combined_list.append(cell.value)\n",
    "            \n",
    "        elif cell.value is not None and cell.column == 8:\n",
    "            items_ordered_list = str(cell.value).split(',')\n",
    "            \n",
    "            combined_list.append(items_ordered_list)\n",
    "            \n",
    "    \n",
    "    order_dict[orders[f\"A{cell.row}\"].value] = combined_list"
   ]
  },
  {
   "cell_type": "code",
   "execution_count": 18,
   "id": "1100ef75",
   "metadata": {},
   "outputs": [
    {
     "name": "stdout",
     "output_type": "stream",
     "text": [
      "{100000: ['C00004', '11/26/2021', 15.98, 'Sun Valley', ['10001', ' 10002']],\n",
      " 100001: ['C00007',\n",
      "          '11/26/2021',\n",
      "          899.97,\n",
      "          'Stowe',\n",
      "          ['10008', ' 10009', ' 10010']],\n",
      " 100002: ['C00015',\n",
      "          '11/26/2021',\n",
      "          799.97,\n",
      "          'Mammoth',\n",
      "          ['10011', ' 10012', ' 10013']],\n",
      " 100003: ['C00016',\n",
      "          '11/26/2021',\n",
      "          117.96,\n",
      "          'Stowe',\n",
      "          ['10002', ' 10003', ' 10004', ' 10006']],\n",
      " 100004: ['C00020', '11/26/2021', 5.99, 'Sun Valley', ['10001']],\n",
      " 100005: ['C00010', '11/26/2021', 599.99, 'Mammoth', ['10010']],\n",
      " 100006: ['C00006', '11/26/2021', 24.99, 'Mammoth', ['10004']],\n",
      " 100007: ['C00001',\n",
      "          '11/26/2021',\n",
      "          1799.94,\n",
      "          'Mammoth',\n",
      "          ['10008',\n",
      "           ' 10008',\n",
      "           ' 10009',\n",
      "           ' 10009',\n",
      "           ' 10009',\n",
      "           ' 10010',\n",
      "           ' 10010']],\n",
      " 100008: ['C00003', '11/26/2021', 99.99, 'Sun Valley', ['10005']],\n",
      " 100009: ['C00014',\n",
      "          '11/26/2021',\n",
      "          254.95,\n",
      "          'Sun Valley',\n",
      "          ['10002', ' 10003', ' 10004', ' 10006', ' 10007']],\n",
      " 100010: ['C00001', '11/26/2021', 29.98, 'Mammoth', ['10002', ' 10003']],\n",
      " 100011: ['C00001', '11/26/2021', 99.99, 'Mammoth', ['10005']],\n",
      " 100012: ['C00005', '11/26/2021', 25.98, 'Sun Valley', ['10001', ' 10003']],\n",
      " 100013: ['C00008', '11/26/2021', 649.98, 'Stowe', ['10012', ' 10013']],\n",
      " 100014: ['C00013', '11/26/2021', 89.99, 'Sun Valley', ['10014']],\n",
      " 100020: ['C00004', '11/27/2021', 119.99, 'Sun Valley', ['10007']],\n",
      " 100021: ['C00017', '11/27/2021', 599.99, 'Stowe', ['10010']],\n",
      " 100022: ['C00019', '11/27/2021', 649.98, 'Sun Valley', ['10012', ' 10013']],\n",
      " 100023: ['C00002', '11/27/2021', 24.99, 'Stowe', ['10004']],\n",
      " 100024: ['C00008', '11/27/2021', 99.99, 'Stowe', ['10005']],\n",
      " 100025: ['C00021', '11/27/2021', 99.99, 'Mammoth', ['10008']],\n",
      " 100026: ['C00022', '11/27/2021', 5.99, 'Sun Valley', ['10001']],\n",
      " 100027: ['C00006', '11/28/2021', 24.99, 'Mammoth', ['10002']],\n",
      " 100031: ['C00018',\n",
      "          '11/28/2021',\n",
      "          999.96,\n",
      "          'Stowe',\n",
      "          ['10005', ' 10008', ' 10009', ' 10010']],\n",
      " 100032: ['C00018', '11/28/2021', 99.99, 'Stowe', ['10006']],\n",
      " 100033: ['C00010',\n",
      "          '11/28/2021',\n",
      "          399.97,\n",
      "          'Mammoth',\n",
      "          ['10005', ' 10008', ' 10009']],\n",
      " 100034: ['C00016', '11/28/2021', 89.99, 'Stowe', ['10014']]}\n"
     ]
    }
   ],
   "source": [
    "pprint(order_dict)"
   ]
  },
  {
   "cell_type": "code",
   "execution_count": null,
   "id": "9c7c9b59",
   "metadata": {},
   "outputs": [],
   "source": []
  },
  {
   "cell_type": "markdown",
   "id": "0a01af28",
   "metadata": {},
   "source": [
    "### Sales Tax Calculation (Last time!)\n",
    "\n",
    "We need to calculate the sales tax and total amount owed for every order in this sheet.\n",
    "\n",
    "* If location is Sun Valley, apply a sales tax of 8%\n",
    "* If location is Mammoth, apply a sales tax of 7.75%.\n",
    "* If location is Stowe, apply a sales tax of 6%\n",
    "\n",
    "Use the tax_calculator function to apply sales tax to each subtotal.\n",
    "\n",
    "**Insert** the calculated sales tax and total amounts into your customer dictionary immediately after subtotal.\n",
    "\n",
    "**Tip**: Figure out how to do this once and then loop through the column."
   ]
  },
  {
   "cell_type": "code",
   "execution_count": 19,
   "id": "4e1c1e6a",
   "metadata": {
    "scrolled": false
   },
   "outputs": [],
   "source": [
    "import tax_calculator as tc"
   ]
  },
  {
   "cell_type": "code",
   "execution_count": 26,
   "id": "7ced7065",
   "metadata": {},
   "outputs": [
    {
     "name": "stdout",
     "output_type": "stream",
     "text": [
      "Subtotal is 15.98\n",
      "Tax Amount is 1.28\n",
      "Total is 17.26\n",
      "Subtotal is 899.97\n",
      "Tax Amount is 54.0\n",
      "Total is 953.97\n",
      "Subtotal is 799.97\n",
      "Tax Amount is 60.0\n",
      "Total is 859.97\n",
      "Subtotal is 117.96\n",
      "Tax Amount is 7.08\n",
      "Total is 125.04\n",
      "Subtotal is 5.99\n",
      "Tax Amount is 0.48\n",
      "Total is 6.47\n",
      "Subtotal is 599.99\n",
      "Tax Amount is 45.0\n",
      "Total is 644.99\n",
      "Subtotal is 24.99\n",
      "Tax Amount is 1.87\n",
      "Total is 26.86\n",
      "Subtotal is 1799.94\n",
      "Tax Amount is 135.0\n",
      "Total is 1934.94\n",
      "Subtotal is 99.99\n",
      "Tax Amount is 8.0\n",
      "Total is 107.99\n",
      "Subtotal is 254.95\n",
      "Tax Amount is 20.4\n",
      "Total is 275.35\n",
      "Subtotal is 29.98\n",
      "Tax Amount is 2.25\n",
      "Total is 32.23\n",
      "Subtotal is 99.99\n",
      "Tax Amount is 7.5\n",
      "Total is 107.49\n",
      "Subtotal is 25.98\n",
      "Tax Amount is 2.08\n",
      "Total is 28.06\n",
      "Subtotal is 649.98\n",
      "Tax Amount is 39.0\n",
      "Total is 688.98\n",
      "Subtotal is 89.99\n",
      "Tax Amount is 7.2\n",
      "Total is 97.19\n",
      "Subtotal is 119.99\n",
      "Tax Amount is 9.6\n",
      "Total is 129.59\n",
      "Subtotal is 599.99\n",
      "Tax Amount is 36.0\n",
      "Total is 635.99\n",
      "Subtotal is 649.98\n",
      "Tax Amount is 52.0\n",
      "Total is 701.98\n",
      "Subtotal is 24.99\n",
      "Tax Amount is 1.5\n",
      "Total is 26.49\n",
      "Subtotal is 99.99\n",
      "Tax Amount is 6.0\n",
      "Total is 105.99\n",
      "Subtotal is 99.99\n",
      "Tax Amount is 7.5\n",
      "Total is 107.49\n",
      "Subtotal is 5.99\n",
      "Tax Amount is 0.48\n",
      "Total is 6.47\n",
      "Subtotal is 24.99\n",
      "Tax Amount is 1.87\n",
      "Total is 26.86\n",
      "Subtotal is 999.96\n",
      "Tax Amount is 60.0\n",
      "Total is 1059.96\n",
      "Subtotal is 99.99\n",
      "Tax Amount is 6.0\n",
      "Total is 105.99\n",
      "Subtotal is 399.97\n",
      "Tax Amount is 30.0\n",
      "Total is 429.97\n",
      "Subtotal is 89.99\n",
      "Tax Amount is 5.4\n",
      "Total is 95.39\n"
     ]
    }
   ],
   "source": [
    "for k, v in order_dict.items():\n",
    "    \n",
    "    if v[3] == 'Sun Valley':\n",
    "        tax_rate = 0.08\n",
    "        \n",
    "    elif v[3] == 'Mammoth':\n",
    "        tax_rate = 0.075\n",
    "        \n",
    "    elif v[3] == 'Stowe':\n",
    "        tax_rate = 0.06\n",
    "        \n",
    "    result = tc.tax_calculator(v[2], tax_rate)\n",
    "    \n",
    "    v.insert(3, result[1])\n",
    "    v.insert(4, result[2])\n"
   ]
  },
  {
   "cell_type": "code",
   "execution_count": null,
   "id": "0cc9900a",
   "metadata": {},
   "outputs": [],
   "source": []
  },
  {
   "cell_type": "code",
   "execution_count": null,
   "id": "67617914",
   "metadata": {},
   "outputs": [],
   "source": []
  },
  {
   "cell_type": "code",
   "execution_count": 27,
   "id": "eab80864",
   "metadata": {},
   "outputs": [
    {
     "name": "stdout",
     "output_type": "stream",
     "text": [
      "{100000: ['C00004',\n",
      "          '11/26/2021',\n",
      "          15.98,\n",
      "          1.28,\n",
      "          17.26,\n",
      "          'Sun Valley',\n",
      "          ['10001', ' 10002']],\n",
      " 100001: ['C00007',\n",
      "          '11/26/2021',\n",
      "          899.97,\n",
      "          54.0,\n",
      "          953.97,\n",
      "          'Stowe',\n",
      "          ['10008', ' 10009', ' 10010']],\n",
      " 100002: ['C00015',\n",
      "          '11/26/2021',\n",
      "          799.97,\n",
      "          60.0,\n",
      "          859.97,\n",
      "          'Mammoth',\n",
      "          ['10011', ' 10012', ' 10013']],\n",
      " 100003: ['C00016',\n",
      "          '11/26/2021',\n",
      "          117.96,\n",
      "          7.08,\n",
      "          125.04,\n",
      "          'Stowe',\n",
      "          ['10002', ' 10003', ' 10004', ' 10006']],\n",
      " 100004: ['C00020', '11/26/2021', 5.99, 0.48, 6.47, 'Sun Valley', ['10001']],\n",
      " 100005: ['C00010', '11/26/2021', 599.99, 45.0, 644.99, 'Mammoth', ['10010']],\n",
      " 100006: ['C00006', '11/26/2021', 24.99, 1.87, 26.86, 'Mammoth', ['10004']],\n",
      " 100007: ['C00001',\n",
      "          '11/26/2021',\n",
      "          1799.94,\n",
      "          135.0,\n",
      "          1934.94,\n",
      "          'Mammoth',\n",
      "          ['10008',\n",
      "           ' 10008',\n",
      "           ' 10009',\n",
      "           ' 10009',\n",
      "           ' 10009',\n",
      "           ' 10010',\n",
      "           ' 10010']],\n",
      " 100008: ['C00003', '11/26/2021', 99.99, 8.0, 107.99, 'Sun Valley', ['10005']],\n",
      " 100009: ['C00014',\n",
      "          '11/26/2021',\n",
      "          254.95,\n",
      "          20.4,\n",
      "          275.35,\n",
      "          'Sun Valley',\n",
      "          ['10002', ' 10003', ' 10004', ' 10006', ' 10007']],\n",
      " 100010: ['C00001',\n",
      "          '11/26/2021',\n",
      "          29.98,\n",
      "          2.25,\n",
      "          32.23,\n",
      "          'Mammoth',\n",
      "          ['10002', ' 10003']],\n",
      " 100011: ['C00001', '11/26/2021', 99.99, 7.5, 107.49, 'Mammoth', ['10005']],\n",
      " 100012: ['C00005',\n",
      "          '11/26/2021',\n",
      "          25.98,\n",
      "          2.08,\n",
      "          28.06,\n",
      "          'Sun Valley',\n",
      "          ['10001', ' 10003']],\n",
      " 100013: ['C00008',\n",
      "          '11/26/2021',\n",
      "          649.98,\n",
      "          39.0,\n",
      "          688.98,\n",
      "          'Stowe',\n",
      "          ['10012', ' 10013']],\n",
      " 100014: ['C00013', '11/26/2021', 89.99, 7.2, 97.19, 'Sun Valley', ['10014']],\n",
      " 100020: ['C00004', '11/27/2021', 119.99, 9.6, 129.59, 'Sun Valley', ['10007']],\n",
      " 100021: ['C00017', '11/27/2021', 599.99, 36.0, 635.99, 'Stowe', ['10010']],\n",
      " 100022: ['C00019',\n",
      "          '11/27/2021',\n",
      "          649.98,\n",
      "          52.0,\n",
      "          701.98,\n",
      "          'Sun Valley',\n",
      "          ['10012', ' 10013']],\n",
      " 100023: ['C00002', '11/27/2021', 24.99, 1.5, 26.49, 'Stowe', ['10004']],\n",
      " 100024: ['C00008', '11/27/2021', 99.99, 6.0, 105.99, 'Stowe', ['10005']],\n",
      " 100025: ['C00021', '11/27/2021', 99.99, 7.5, 107.49, 'Mammoth', ['10008']],\n",
      " 100026: ['C00022', '11/27/2021', 5.99, 0.48, 6.47, 'Sun Valley', ['10001']],\n",
      " 100027: ['C00006', '11/28/2021', 24.99, 1.87, 26.86, 'Mammoth', ['10002']],\n",
      " 100031: ['C00018',\n",
      "          '11/28/2021',\n",
      "          999.96,\n",
      "          60.0,\n",
      "          1059.96,\n",
      "          'Stowe',\n",
      "          ['10005', ' 10008', ' 10009', ' 10010']],\n",
      " 100032: ['C00018', '11/28/2021', 99.99, 6.0, 105.99, 'Stowe', ['10006']],\n",
      " 100033: ['C00010',\n",
      "          '11/28/2021',\n",
      "          399.97,\n",
      "          30.0,\n",
      "          429.97,\n",
      "          'Mammoth',\n",
      "          ['10005', ' 10008', ' 10009']],\n",
      " 100034: ['C00016', '11/28/2021', 89.99, 5.4, 95.39, 'Stowe', ['10014']]}\n"
     ]
    }
   ],
   "source": [
    "pprint(order_dict)"
   ]
  },
  {
   "cell_type": "markdown",
   "id": "5d3460da",
   "metadata": {},
   "source": [
    "### Write Sales Tax and Total Into the Excel Sheet\n",
    "\n",
    "\n",
    "Great job! Now we just need to write this data into the workbook.\n",
    "\n",
    "Write the sales tax and total you just calculated into the workbook, then save!\n",
    "\n",
    "Call this workbook 'maven_ski_shop_data_fixed'.\n",
    "\n",
    "**Tip:** There are a few ways to do this. As always, be patient, solve one step at a time."
   ]
  },
  {
   "cell_type": "code",
   "execution_count": 33,
   "id": "a9a7814d",
   "metadata": {},
   "outputs": [],
   "source": [
    "current_row = 2\n",
    "max_row = orders.max_row\n",
    "\n",
    "for v in order_dict.values():\n",
    "    \n",
    "    orders[f\"E{current_row}\"].value = v[3]\n",
    "    orders[f\"F{current_row}\"].value = v[4]\n",
    "    \n",
    "    current_row +=1"
   ]
  },
  {
   "cell_type": "code",
   "execution_count": 34,
   "id": "29b2168f",
   "metadata": {},
   "outputs": [],
   "source": [
    "my_workbook.save('/Users/huzaifamalik/Downloads/Python for Data Analytics/Python Foundations for Data Analysis/Python Course Assignments/Section13_final_project/maven_ski_shop_data_fixed.xlsx')"
   ]
  },
  {
   "cell_type": "code",
   "execution_count": null,
   "id": "536530d1",
   "metadata": {},
   "outputs": [],
   "source": []
  },
  {
   "cell_type": "markdown",
   "id": "328ba670",
   "metadata": {},
   "source": [
    "## Part 2\n",
    "\n",
    "### Analysis Time!\n",
    "\n",
    "\n",
    "Now that we've fixed the data - it's time to perform analysis on our sales.\n",
    "\n",
    "Our starting point will be the order_dict we created, after we added the taxes and totals columns.\n",
    "\n",
    "Our first step will be to write a function that calculates the sum of a 'column' of data in our dictionary.\n",
    "\n",
    "A 'column' for example, would be subtotals, which is at index 2 in the list stored as our dictionary values.\n",
    "\n",
    "Your function should take the following arguments:\n",
    "\n",
    "* Column Index (the index of the data of interest in the list stored in our dictionary values)\n",
    "* Dictionary Name\n",
    "\n",
    "It should output:\n",
    "\n",
    "* The sum of values in the column (rounded to two decimal places)\n",
    "\n",
    "Assume only numeric values will be in the column (You can develop cleaning logic later :D)\n",
    "\n",
    "**Tip:** Use a list comprehension to retrieve the values of interest."
   ]
  },
  {
   "cell_type": "code",
   "execution_count": 52,
   "id": "284693e9",
   "metadata": {},
   "outputs": [],
   "source": [
    "def column_sum(column_index, dict_name):\n",
    "    \n",
    "    numeric_list = [v[column_index] for v in dict_name.values() if isinstance(v[column_index], (int, float))]\n",
    "    \n",
    "    #print(numeric_list)\n",
    "    \n",
    "    return (round(sum(numeric_list),2))"
   ]
  },
  {
   "cell_type": "markdown",
   "id": "d83413fe",
   "metadata": {},
   "source": [
    "#### Sum The Subtotal, Tax, and Total Columns \n",
    "\n",
    "Now that we have our column sum function, calculate the sum of:\n",
    "\n",
    "* Subtotals\n",
    "* Taxes\n",
    "* Totals"
   ]
  },
  {
   "cell_type": "code",
   "execution_count": 60,
   "id": "d171ddf8",
   "metadata": {},
   "outputs": [
    {
     "name": "stdout",
     "output_type": "stream",
     "text": [
      "Sum of subtotal column is 8731.47\n"
     ]
    }
   ],
   "source": [
    "subtotals_sum = column_sum(2, order_dict)\n",
    "print(f\"Sum of subtotal column is {subtotals_sum}\")"
   ]
  },
  {
   "cell_type": "code",
   "execution_count": 61,
   "id": "8fe28932",
   "metadata": {},
   "outputs": [
    {
     "name": "stdout",
     "output_type": "stream",
     "text": [
      "Sum of tax column is 607.49\n"
     ]
    }
   ],
   "source": [
    "taxes_sum = column_sum(3, order_dict)\n",
    "print(f\"Sum of tax column is {taxes_sum}\")"
   ]
  },
  {
   "cell_type": "code",
   "execution_count": 62,
   "id": "40fca478",
   "metadata": {},
   "outputs": [
    {
     "name": "stdout",
     "output_type": "stream",
     "text": [
      "Sum of total column is 9338.96\n"
     ]
    }
   ],
   "source": [
    "totals_sum = column_sum(4, order_dict)\n",
    "print(f\"Sum of total column is {totals_sum}\")"
   ]
  },
  {
   "cell_type": "code",
   "execution_count": null,
   "id": "b509ec7b",
   "metadata": {},
   "outputs": [],
   "source": []
  },
  {
   "cell_type": "markdown",
   "id": "b2720242",
   "metadata": {},
   "source": [
    "### What is the average of our subtotals?\n",
    "\n",
    "Calculate the average value of our transactions.\n",
    "\n",
    "Remember that each entry in your dictionary is one order."
   ]
  },
  {
   "cell_type": "code",
   "execution_count": 65,
   "id": "1aa1093a",
   "metadata": {},
   "outputs": [
    {
     "name": "stdout",
     "output_type": "stream",
     "text": [
      "Average value of transactions is: 323.39\n"
     ]
    }
   ],
   "source": [
    "total_transactions = 0\n",
    "\n",
    "for k, v in order_dict.items():\n",
    "    total_transactions += 1\n",
    "\n",
    "result = column_sum(2, order_dict)\n",
    "\n",
    "avg_subtotal_value = round(result/total_transactions,2)\n",
    "\n",
    "print(f\"Average value of transactions is: {avg_subtotal_value}\")"
   ]
  },
  {
   "cell_type": "markdown",
   "id": "fa8f7168",
   "metadata": {},
   "source": [
    "### How many unique customers did we have?\n",
    "\n",
    "Calculate the total number of unique customers in our sales data.\n",
    "\n",
    "Then calculate the number of orders per customer (total orders / unique customers)"
   ]
  },
  {
   "cell_type": "code",
   "execution_count": 69,
   "id": "9d71529b",
   "metadata": {},
   "outputs": [],
   "source": [
    "unique_customers_list = []"
   ]
  },
  {
   "cell_type": "code",
   "execution_count": 73,
   "id": "cb428f0b",
   "metadata": {},
   "outputs": [],
   "source": [
    "# 1st method using list logic\n",
    "for v in order_dict.values():\n",
    "    \n",
    "    if v[0] in unique_customers_list:\n",
    "        continue\n",
    "        \n",
    "    else:\n",
    "        unique_customers_list.append(v[0])"
   ]
  },
  {
   "cell_type": "code",
   "execution_count": 74,
   "id": "77d4191e",
   "metadata": {},
   "outputs": [
    {
     "data": {
      "text/plain": [
       "['C00004', 'C00007', 'C00015', 'C00016', 'C00020', 'C00010', 'C00006', 'C00001', 'C00003', 'C00014', 'C00005', 'C00008', 'C00013', 'C00017', 'C00019', 'C00002', 'C00021', 'C00022', 'C00018']"
      ]
     },
     "execution_count": 74,
     "metadata": {},
     "output_type": "execute_result"
    }
   ],
   "source": [
    "unique_customers_list"
   ]
  },
  {
   "cell_type": "code",
   "execution_count": 89,
   "id": "9d0776f4",
   "metadata": {},
   "outputs": [
    {
     "name": "stdout",
     "output_type": "stream",
     "text": [
      "Total unique customers are: 19\n",
      "Number of orders per customer: 1.42\n"
     ]
    }
   ],
   "source": [
    "print(f\"Total unique customers are: {len(unique_customers_list)}\")\n",
    "print(f\"Number of orders per customer: {round(len(order_dict)/len(unique_customers_list), 2)}\")"
   ]
  },
  {
   "cell_type": "code",
   "execution_count": null,
   "id": "e2d9b410",
   "metadata": {},
   "outputs": [],
   "source": []
  },
  {
   "cell_type": "code",
   "execution_count": 88,
   "id": "478641d9",
   "metadata": {},
   "outputs": [
    {
     "name": "stdout",
     "output_type": "stream",
     "text": [
      "Total unique customers are: 19\n",
      "Number of orders per customer: 1.42\n"
     ]
    }
   ],
   "source": [
    "#2nd Method using Set\n",
    "\n",
    "cust_list = [v[0] for v in order_dict.values()]\n",
    "\n",
    "total_unique_customers = len(set(cust_list))\n",
    "\n",
    "print(f\"Total unique customers are: {total_unique_customers}\")\n",
    "\n",
    "print(f\"Number of orders per customer: {round(len(order_dict)/total_unique_customers, 2)}\")"
   ]
  },
  {
   "cell_type": "code",
   "execution_count": null,
   "id": "3143a14d",
   "metadata": {},
   "outputs": [],
   "source": []
  },
  {
   "cell_type": "markdown",
   "id": "ff483459",
   "metadata": {},
   "source": [
    "### How many items in total did we sell?\n",
    "\n",
    "Calculate the total number of items we sold in across all orders. \n",
    "\n",
    "This information is in Column H, which should be the last element in order_dict's values."
   ]
  },
  {
   "cell_type": "code",
   "execution_count": 92,
   "id": "2f7d15ac",
   "metadata": {},
   "outputs": [
    {
     "name": "stdout",
     "output_type": "stream",
     "text": [
      "Total items sold across all orders: 54\n"
     ]
    }
   ],
   "source": [
    "total_items_sold = 0\n",
    "\n",
    "for v in order_dict.values():\n",
    "    \n",
    "    items_ordered_list = v[len(v) -1]\n",
    "    \n",
    "    #print(items_ordered_list)\n",
    "    \n",
    "    total_items_sold += len(items_ordered_list)\n",
    "    \n",
    "print(f\"Total items sold across all orders: {total_items_sold}\")   "
   ]
  },
  {
   "cell_type": "code",
   "execution_count": null,
   "id": "abb9cfe3",
   "metadata": {},
   "outputs": [],
   "source": []
  },
  {
   "cell_type": "markdown",
   "id": "05abd311",
   "metadata": {},
   "source": [
    "### Sales By Location\n",
    "\n",
    "Calculate the sum of subtotals by location.\n",
    "\n",
    "Create a dictionary to store them, where location is the key, and revenue for that location is the value.\n",
    "\n",
    "A few steps to consider:\n",
    "\n",
    "* Loop through your dictionary\n",
    "* build a dictionary as you go with location as key\n",
    "* increment revenue every time a transaction matches the location.\n",
    "\n",
    "\n",
    "Your output should look like \n",
    "{'Location1': sum of subtotals for 'Location1'}\n",
    "\n",
    "With an entry for each location."
   ]
  },
  {
   "cell_type": "code",
   "execution_count": 93,
   "id": "960a8d1b",
   "metadata": {},
   "outputs": [],
   "source": [
    "sales_by_location = {}"
   ]
  },
  {
   "cell_type": "code",
   "execution_count": 96,
   "id": "6a9c2508",
   "metadata": {},
   "outputs": [],
   "source": [
    "unique_locations_set = {v[5] for v in order_dict.values()}"
   ]
  },
  {
   "cell_type": "code",
   "execution_count": 97,
   "id": "11e35484",
   "metadata": {},
   "outputs": [
    {
     "data": {
      "text/plain": [
       "{'Stowe', 'Sun Valley', 'Mammoth'}"
      ]
     },
     "execution_count": 97,
     "metadata": {},
     "output_type": "execute_result"
    }
   ],
   "source": [
    "unique_locations_set"
   ]
  },
  {
   "cell_type": "code",
   "execution_count": 100,
   "id": "bb8bc97d",
   "metadata": {},
   "outputs": [],
   "source": [
    "for i in unique_locations_set:\n",
    "    \n",
    "    subtotal_sum = 0.0\n",
    "    \n",
    "    for v in order_dict.values():\n",
    "        \n",
    "        if v[5] == i:\n",
    "            subtotal_sum += v[2]\n",
    "            \n",
    "    sales_by_location[i] = round(subtotal_sum,2)"
   ]
  },
  {
   "cell_type": "code",
   "execution_count": 101,
   "id": "98bf4a78",
   "metadata": {},
   "outputs": [
    {
     "data": {
      "text/plain": [
       "{'Stowe': 3582.82, 'Sun Valley': 1268.84, 'Mammoth': 3879.81}"
      ]
     },
     "execution_count": 101,
     "metadata": {},
     "output_type": "execute_result"
    }
   ],
   "source": [
    "sales_by_location"
   ]
  },
  {
   "cell_type": "code",
   "execution_count": null,
   "id": "5ef90c79",
   "metadata": {},
   "outputs": [],
   "source": []
  },
  {
   "cell_type": "markdown",
   "id": "a9ffa683",
   "metadata": {},
   "source": [
    "### Challenge: Aggregator Function\n",
    "\n",
    "Now that you've summed revenue by category (you just summed by location), can you write a function to generalize calculating a sum of a column, grouped by the unique values in another column? (for example, sum of totals by date or customer_id).\n",
    "\n",
    "Your function should take the following arguments:\n",
    "* index of the 'column' (index position in order_dict) to group by\n",
    "* index of the 'column' (index position in order_dict) to sum by category\n",
    "* the dictionary where the data is located (assume the same structure as order_dict.\n",
    "\n",
    "It should return:\n",
    "* A dictionary with the categories as keys, and the sum by category as value.\n",
    "\n",
    "Once you've done so use your function to sum totals by date and customer_id."
   ]
  },
  {
   "cell_type": "code",
   "execution_count": 120,
   "id": "32c8ca53",
   "metadata": {},
   "outputs": [],
   "source": [
    "def aggregator(group_by_index_col, sum_index_col, dictionary):\n",
    "    \n",
    "    aggregate_dict={}\n",
    "    \n",
    "    categories_set = set([v[group_by_index_col] for v in order_dict.values()])\n",
    "    \n",
    "    for category in categories_set:\n",
    "        category_sum = 0.0\n",
    "        \n",
    "        for v in order_dict.values():\n",
    "            if v[group_by_index_col] == category:\n",
    "                \n",
    "                category_sum += v[sum_index_col]\n",
    "                \n",
    "        aggregate_dict[category] = round(category_sum,2)\n",
    "        \n",
    "    return aggregate_dict"
   ]
  },
  {
   "cell_type": "code",
   "execution_count": 121,
   "id": "d11b2be6",
   "metadata": {},
   "outputs": [
    {
     "data": {
      "text/plain": [
       "{'Stowe': 3797.8, 'Sun Valley': 1370.36, 'Mammoth': 4170.8}"
      ]
     },
     "execution_count": 121,
     "metadata": {},
     "output_type": "execute_result"
    }
   ],
   "source": [
    "# index 5 = location, index 4 = total\n",
    "\n",
    "aggregator(5, 4, order_dict)"
   ]
  },
  {
   "cell_type": "code",
   "execution_count": 122,
   "id": "b034d599",
   "metadata": {},
   "outputs": [
    {
     "data": {
      "text/plain": [
       "{'11/27/2021': 1714.0, '11/28/2021': 1718.17, '11/26/2021': 5906.79}"
      ]
     },
     "execution_count": 122,
     "metadata": {},
     "output_type": "execute_result"
    }
   ],
   "source": [
    "# index 1 = date, index 4 = total\n",
    "aggregator(1, 4, order_dict)"
   ]
  },
  {
   "cell_type": "code",
   "execution_count": 123,
   "id": "92703b3d",
   "metadata": {},
   "outputs": [
    {
     "name": "stdout",
     "output_type": "stream",
     "text": [
      "{'C00001': 2074.66,\n",
      " 'C00002': 26.49,\n",
      " 'C00003': 107.99,\n",
      " 'C00004': 146.85,\n",
      " 'C00005': 28.06,\n",
      " 'C00006': 53.72,\n",
      " 'C00007': 953.97,\n",
      " 'C00008': 794.97,\n",
      " 'C00010': 1074.96,\n",
      " 'C00013': 97.19,\n",
      " 'C00014': 275.35,\n",
      " 'C00015': 859.97,\n",
      " 'C00016': 220.43,\n",
      " 'C00017': 635.99,\n",
      " 'C00018': 1165.95,\n",
      " 'C00019': 701.98,\n",
      " 'C00020': 6.47,\n",
      " 'C00021': 107.49,\n",
      " 'C00022': 6.47}\n"
     ]
    }
   ],
   "source": [
    "# index 0 = customer_id\n",
    "pprint(aggregator(0, 4, order_dict))"
   ]
  },
  {
   "cell_type": "code",
   "execution_count": null,
   "id": "fbecf61e",
   "metadata": {},
   "outputs": [],
   "source": []
  },
  {
   "cell_type": "code",
   "execution_count": null,
   "id": "27d2f25c",
   "metadata": {},
   "outputs": [],
   "source": []
  },
  {
   "cell_type": "code",
   "execution_count": 115,
   "id": "f9f4fee3",
   "metadata": {},
   "outputs": [],
   "source": [
    "#Just for Testing purposes\n",
    "categories_set_testing = set([v[5] for v in order_dict.values()])"
   ]
  },
  {
   "cell_type": "code",
   "execution_count": 116,
   "id": "95341c59",
   "metadata": {},
   "outputs": [
    {
     "data": {
      "text/plain": [
       "{'Stowe', 'Sun Valley', 'Mammoth'}"
      ]
     },
     "execution_count": 116,
     "metadata": {},
     "output_type": "execute_result"
    }
   ],
   "source": [
    "categories_set_testing"
   ]
  },
  {
   "cell_type": "code",
   "execution_count": null,
   "id": "03483866",
   "metadata": {},
   "outputs": [],
   "source": []
  }
 ],
 "metadata": {
  "kernelspec": {
   "display_name": "Python 3 (ipykernel)",
   "language": "python",
   "name": "python3"
  },
  "language_info": {
   "codemirror_mode": {
    "name": "ipython",
    "version": 3
   },
   "file_extension": ".py",
   "mimetype": "text/x-python",
   "name": "python",
   "nbconvert_exporter": "python",
   "pygments_lexer": "ipython3",
   "version": "3.10.18"
  }
 },
 "nbformat": 4,
 "nbformat_minor": 5
}
